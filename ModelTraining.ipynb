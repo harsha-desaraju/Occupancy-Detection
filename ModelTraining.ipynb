{
  "nbformat": 4,
  "nbformat_minor": 0,
  "metadata": {
    "colab": {
      "name": "ModelTraining.ipynb",
      "provenance": [],
      "collapsed_sections": []
    },
    "kernelspec": {
      "name": "python3",
      "display_name": "Python 3"
    },
    "language_info": {
      "name": "python"
    },
    "accelerator": "GPU"
  },
  "cells": [
    {
      "cell_type": "code",
      "metadata": {
        "id": "r1IDterU05zP"
      },
      "source": [
        "# To run this notebook please follow the instructions given in ReadMe file.\n",
        "\n",
        "# This notebook contains the code to train the model and save it."
      ],
      "execution_count": null,
      "outputs": []
    },
    {
      "cell_type": "code",
      "metadata": {
        "colab": {
          "base_uri": "https://localhost:8080/"
        },
        "id": "iXEYymLnfrT_",
        "outputId": "b550164c-7991-4453-ee56-eff4f8454cfd"
      },
      "source": [
        "#Mount Google drive for importing dataset, saved model\n",
        "from google.colab import drive\n",
        "drive.mount('/content/drive')"
      ],
      "execution_count": null,
      "outputs": [
        {
          "output_type": "stream",
          "name": "stdout",
          "text": [
            "Drive already mounted at /content/drive; to attempt to forcibly remount, call drive.mount(\"/content/drive\", force_remount=True).\n"
          ]
        }
      ]
    },
    {
      "cell_type": "code",
      "metadata": {
        "colab": {
          "base_uri": "https://localhost:8080/"
        },
        "id": "WwZoHrHtuIZj",
        "outputId": "e18bada0-a588-4ee5-8ea1-c9b3ef9acb6d"
      },
      "source": [
        "#opencv v4.5.4.58 is required for smooth running of the code.\n",
        "\n",
        "!pip install --upgrade opencv-python"
      ],
      "execution_count": null,
      "outputs": [
        {
          "output_type": "stream",
          "name": "stdout",
          "text": [
            "Requirement already satisfied: opencv-python in /usr/local/lib/python3.7/dist-packages (4.5.4.58)\n",
            "Requirement already satisfied: numpy>=1.14.5 in /usr/local/lib/python3.7/dist-packages (from opencv-python) (1.19.5)\n"
          ]
        }
      ]
    },
    {
      "cell_type": "code",
      "metadata": {
        "_uuid": "8f2839f25d086af736a60e9eeb907d3b93b6e0e5",
        "_cell_guid": "b1076dfc-b9ad-4769-8c92-a6c4dae69d19",
        "trusted": true,
        "id": "uXMIHcoXe95x"
      },
      "source": [
        "# Import all necessary modules.\n",
        "import numpy as np\n",
        "import pandas as pd\n",
        "import seaborn as sns\n",
        "import matplotlib.pyplot as plt\n",
        "import shutil\n",
        "from sklearn.model_selection import train_test_split\n",
        "import tensorflow as tf\n",
        "import cv2\n",
        "import os\n",
        "import pickle "
      ],
      "execution_count": null,
      "outputs": []
    },
    {
      "cell_type": "code",
      "metadata": {
        "id": "1Ven2VWvCVS7"
      },
      "source": [
        "# Dataset Location\n",
        "images_loc='/content/drive/MyDrive/Unbiased_Enthusiasts/Our_model/Dataset/Train_data'  \n",
        "\n",
        "#Labels location\n",
        "label_loc='/content/drive/MyDrive/Unbiased_Enthusiasts/Our_model/Dataset/train.csv'  "
      ],
      "execution_count": null,
      "outputs": []
    },
    {
      "cell_type": "code",
      "metadata": {
        "id": "T4FCEt8BFRX7"
      },
      "source": [
        "#Reading the lable data\n",
        "labels=pd.read_csv(label_loc) "
      ],
      "execution_count": null,
      "outputs": []
    },
    {
      "cell_type": "code",
      "metadata": {
        "id": "OqS7eL54FXq2"
      },
      "source": [
        "# names - list of names of images\n",
        "# count_df - list of number of people in the image\n",
        "\n",
        "names=[] \n",
        "count_df=[]  \n",
        "for i in range(len(labels)):\n",
        "  names.append(labels['Name'][i])\n",
        "  count_df.append(labels['HeadCount'][i])"
      ],
      "execution_count": null,
      "outputs": []
    },
    {
      "cell_type": "code",
      "metadata": {
        "id": "rQdCKPh5CkWu"
      },
      "source": [
        "# This is size of the training set. Increase it for training on larger set.\n",
        "n = 2500\n",
        "\n",
        "def load_images_from_folder(folder,names,cou):\n",
        "\n",
        "    \"\"\" this function takes the images(Total=n) and resize them to (256,256)\n",
        "        resolution and prepares the data for training \"\"\"\n",
        "\n",
        "    images = []\n",
        "    y=[]\n",
        "    c=0\n",
        "    for filename in os.listdir(folder):\n",
        "      if filename in names:\n",
        "        index=names.index(filename)\n",
        "        c=c+1\n",
        "\n",
        "        img = cv2.imread(os.path.join(folder,filename))\n",
        "        img = cv2.resize(img,(256,256))\n",
        "        if img is not None:\n",
        "            images.append(img)\n",
        "            y.append(cou[index])\n",
        "        if c==n:\n",
        "          break\n",
        "    return [images,y]"
      ],
      "execution_count": null,
      "outputs": []
    },
    {
      "cell_type": "code",
      "metadata": {
        "id": "CI6XPTbdDVeQ"
      },
      "source": [
        "# Load data for training\n",
        "train_data=load_images_from_folder(images_loc,names,count_df) "
      ],
      "execution_count": null,
      "outputs": []
    },
    {
      "cell_type": "code",
      "metadata": {
        "colab": {
          "base_uri": "https://localhost:8080/"
        },
        "id": "h4naq86FDqtf",
        "outputId": "8bb8bb75-a46a-4615-c6a2-623b0e19ab2d"
      },
      "source": [
        "# Changing the label data into an array\n",
        "y=train_data[1][0:n]\n",
        "y=np.array(y)\n",
        "y.shape"
      ],
      "execution_count": null,
      "outputs": [
        {
          "output_type": "execute_result",
          "data": {
            "text/plain": [
              "(2500,)"
            ]
          },
          "metadata": {},
          "execution_count": 47
        }
      ]
    },
    {
      "cell_type": "code",
      "metadata": {
        "colab": {
          "base_uri": "https://localhost:8080/"
        },
        "id": "4-nCFElqMeM6",
        "outputId": "718caa91-d826-4a85-b64d-be16098167c5"
      },
      "source": [
        "# Changing the dataset into an array\n",
        "img2=np.array(train_data[0])\n",
        "img2.shape"
      ],
      "execution_count": null,
      "outputs": [
        {
          "output_type": "execute_result",
          "data": {
            "text/plain": [
              "(2500, 256, 256, 3)"
            ]
          },
          "metadata": {},
          "execution_count": 48
        }
      ]
    },
    {
      "cell_type": "code",
      "metadata": {
        "trusted": true,
        "colab": {
          "base_uri": "https://localhost:8080/"
        },
        "id": "bGndVZ-1e957",
        "outputId": "d937154d-bcc3-4248-8dec-9f1db8cc5e96"
      },
      "source": [
        "# setting features and target value\n",
        "x_train, x_val, y_train, y_val = train_test_split(img2, y, test_size=0.1)\n",
        "print(x_train.shape[0])\n",
        "print(x_val.shape[0])"
      ],
      "execution_count": null,
      "outputs": [
        {
          "output_type": "stream",
          "name": "stdout",
          "text": [
            "2250\n",
            "250\n"
          ]
        }
      ]
    },
    {
      "cell_type": "code",
      "metadata": {
        "trusted": true,
        "colab": {
          "base_uri": "https://localhost:8080/"
        },
        "id": "xWnBzjJIe95_",
        "outputId": "a26de44a-c22c-45a5-f2c2-b55b6cd799e4"
      },
      "source": [
        "# Create the model\n",
        "# The model is a Convolutional neural network.\n",
        "# The details regarding its architecture are printed below the cell.\n",
        "\n",
        "model = tf.keras.Sequential([\n",
        "    \n",
        "    tf.keras.layers.Conv2D(64, (3,3), input_shape=(256,256,3), activation=tf.keras.activations.relu),\n",
        "    tf.keras.layers.MaxPool2D(2,2),\n",
        "    tf.keras.layers.Conv2D(128, (3,3), activation=tf.keras.activations.relu),\n",
        "    tf.keras.layers.MaxPool2D(2,2),\n",
        "    tf.keras.layers.Dropout(0.2),\n",
        "    tf.keras.layers.Flatten(),\n",
        "    tf.keras.layers.Dense(128, activation=tf.keras.activations.relu),\n",
        "    tf.keras.layers.Dense(7),\n",
        "    tf.keras.layers.Dense(1)\n",
        "    \n",
        "])\n",
        "\n",
        "model.compile(loss=tf.keras.losses.Huber(), optimizer=tf.keras.optimizers.Adam(), metrics=['mae'])\n",
        "model.summary()"
      ],
      "execution_count": null,
      "outputs": [
        {
          "output_type": "stream",
          "name": "stdout",
          "text": [
            "Model: \"sequential_1\"\n",
            "_________________________________________________________________\n",
            " Layer (type)                Output Shape              Param #   \n",
            "=================================================================\n",
            " conv2d_2 (Conv2D)           (None, 254, 254, 64)      1792      \n",
            "                                                                 \n",
            " max_pooling2d_2 (MaxPooling  (None, 127, 127, 64)     0         \n",
            " 2D)                                                             \n",
            "                                                                 \n",
            " conv2d_3 (Conv2D)           (None, 125, 125, 128)     73856     \n",
            "                                                                 \n",
            " max_pooling2d_3 (MaxPooling  (None, 62, 62, 128)      0         \n",
            " 2D)                                                             \n",
            "                                                                 \n",
            " dropout_1 (Dropout)         (None, 62, 62, 128)       0         \n",
            "                                                                 \n",
            " flatten_1 (Flatten)         (None, 492032)            0         \n",
            "                                                                 \n",
            " dense_3 (Dense)             (None, 128)               62980224  \n",
            "                                                                 \n",
            " dense_4 (Dense)             (None, 7)                 903       \n",
            "                                                                 \n",
            " dense_5 (Dense)             (None, 1)                 8         \n",
            "                                                                 \n",
            "=================================================================\n",
            "Total params: 63,056,783\n",
            "Trainable params: 63,056,783\n",
            "Non-trainable params: 0\n",
            "_________________________________________________________________\n"
          ]
        }
      ]
    },
    {
      "cell_type": "code",
      "metadata": {
        "trusted": true,
        "id": "Pzmbi0gAe96A"
      },
      "source": [
        "# add a learning rate monitor to get the lr with smoothest prediction\n",
        "\n",
        "lr_monitor = tf.keras.callbacks.LearningRateScheduler(\n",
        "                lambda epochs : 1e-8 * 10 ** (epochs/20))\n"
      ],
      "execution_count": null,
      "outputs": []
    },
    {
      "cell_type": "code",
      "metadata": {
        "trusted": true,
        "colab": {
          "base_uri": "https://localhost:8080/"
        },
        "id": "lgobF5jhe96B",
        "outputId": "884c769d-1de6-4605-fedc-c300e1228c05"
      },
      "source": [
        "# train the model \n",
        "history = model.fit(x_train, y_train, validation_data=(x_val, y_val), epochs=50, batch_size=16, callbacks=[lr_monitor])"
      ],
      "execution_count": null,
      "outputs": [
        {
          "output_type": "stream",
          "name": "stdout",
          "text": [
            "Epoch 1/50\n",
            "141/141 [==============================] - 23s 159ms/step - loss: 33.9086 - mae: 34.4075 - val_loss: 10.5593 - val_mae: 11.0489 - lr: 1.0000e-08\n",
            "Epoch 2/50\n",
            "141/141 [==============================] - 22s 158ms/step - loss: 15.7963 - mae: 16.2888 - val_loss: 9.1403 - val_mae: 9.6321 - lr: 1.1220e-08\n",
            "Epoch 3/50\n",
            "141/141 [==============================] - 22s 158ms/step - loss: 15.0275 - mae: 15.5218 - val_loss: 9.2580 - val_mae: 9.7475 - lr: 1.2589e-08\n",
            "Epoch 4/50\n",
            "141/141 [==============================] - 22s 158ms/step - loss: 15.6506 - mae: 16.1420 - val_loss: 8.7129 - val_mae: 9.2044 - lr: 1.4125e-08\n",
            "Epoch 5/50\n",
            "141/141 [==============================] - 22s 157ms/step - loss: 14.7310 - mae: 15.2233 - val_loss: 9.0460 - val_mae: 9.5346 - lr: 1.5849e-08\n",
            "Epoch 6/50\n",
            "141/141 [==============================] - 22s 157ms/step - loss: 14.6327 - mae: 15.1257 - val_loss: 8.3164 - val_mae: 8.8019 - lr: 1.7783e-08\n",
            "Epoch 7/50\n",
            "141/141 [==============================] - 22s 157ms/step - loss: 14.2733 - mae: 14.7641 - val_loss: 7.9982 - val_mae: 8.4832 - lr: 1.9953e-08\n",
            "Epoch 8/50\n",
            "141/141 [==============================] - 22s 157ms/step - loss: 13.5306 - mae: 14.0224 - val_loss: 7.7394 - val_mae: 8.2250 - lr: 2.2387e-08\n",
            "Epoch 9/50\n",
            "141/141 [==============================] - 22s 157ms/step - loss: 13.9080 - mae: 14.3998 - val_loss: 7.6449 - val_mae: 8.1390 - lr: 2.5119e-08\n",
            "Epoch 10/50\n",
            "141/141 [==============================] - 22s 156ms/step - loss: 13.0706 - mae: 13.5612 - val_loss: 7.1813 - val_mae: 7.6649 - lr: 2.8184e-08\n",
            "Epoch 11/50\n",
            "141/141 [==============================] - 22s 156ms/step - loss: 12.8367 - mae: 13.3282 - val_loss: 6.8472 - val_mae: 7.3364 - lr: 3.1623e-08\n",
            "Epoch 12/50\n",
            "141/141 [==============================] - 22s 157ms/step - loss: 12.0996 - mae: 12.5915 - val_loss: 6.4616 - val_mae: 6.9416 - lr: 3.5481e-08\n",
            "Epoch 13/50\n",
            "141/141 [==============================] - 22s 156ms/step - loss: 11.9731 - mae: 12.4637 - val_loss: 6.1060 - val_mae: 6.5934 - lr: 3.9811e-08\n",
            "Epoch 14/50\n",
            "141/141 [==============================] - 22s 157ms/step - loss: 11.1581 - mae: 11.6488 - val_loss: 5.9618 - val_mae: 6.4497 - lr: 4.4668e-08\n",
            "Epoch 15/50\n",
            "141/141 [==============================] - 22s 157ms/step - loss: 10.6630 - mae: 11.1546 - val_loss: 5.7477 - val_mae: 6.2342 - lr: 5.0119e-08\n",
            "Epoch 16/50\n",
            "141/141 [==============================] - 22s 156ms/step - loss: 9.8545 - mae: 10.3439 - val_loss: 5.3573 - val_mae: 5.8420 - lr: 5.6234e-08\n",
            "Epoch 17/50\n",
            "141/141 [==============================] - 22s 156ms/step - loss: 9.2799 - mae: 9.7675 - val_loss: 4.8474 - val_mae: 5.3275 - lr: 6.3096e-08\n",
            "Epoch 18/50\n",
            "141/141 [==============================] - 22s 156ms/step - loss: 8.7613 - mae: 9.2479 - val_loss: 4.3613 - val_mae: 4.8457 - lr: 7.0795e-08\n",
            "Epoch 19/50\n",
            "141/141 [==============================] - 22s 157ms/step - loss: 8.2461 - mae: 8.7326 - val_loss: 4.0830 - val_mae: 4.5610 - lr: 7.9433e-08\n",
            "Epoch 20/50\n",
            "141/141 [==============================] - 22s 156ms/step - loss: 7.4498 - mae: 7.9355 - val_loss: 3.6099 - val_mae: 4.0824 - lr: 8.9125e-08\n",
            "Epoch 21/50\n",
            "141/141 [==============================] - 22s 156ms/step - loss: 7.1183 - mae: 7.6044 - val_loss: 3.3976 - val_mae: 3.8735 - lr: 1.0000e-07\n",
            "Epoch 22/50\n",
            "141/141 [==============================] - 22s 157ms/step - loss: 6.8257 - mae: 7.3109 - val_loss: 3.3412 - val_mae: 3.8147 - lr: 1.1220e-07\n",
            "Epoch 23/50\n",
            "141/141 [==============================] - 22s 156ms/step - loss: 6.5057 - mae: 6.9893 - val_loss: 3.4250 - val_mae: 3.8999 - lr: 1.2589e-07\n",
            "Epoch 24/50\n",
            "141/141 [==============================] - 22s 156ms/step - loss: 6.2472 - mae: 6.7311 - val_loss: 3.1595 - val_mae: 3.6300 - lr: 1.4125e-07\n",
            "Epoch 25/50\n",
            "141/141 [==============================] - 22s 156ms/step - loss: 6.0775 - mae: 6.5617 - val_loss: 3.2265 - val_mae: 3.6934 - lr: 1.5849e-07\n",
            "Epoch 26/50\n",
            "141/141 [==============================] - 22s 156ms/step - loss: 5.7614 - mae: 6.2432 - val_loss: 2.7289 - val_mae: 3.1900 - lr: 1.7783e-07\n",
            "Epoch 27/50\n",
            "141/141 [==============================] - 22s 156ms/step - loss: 5.4760 - mae: 5.9556 - val_loss: 2.6461 - val_mae: 3.1124 - lr: 1.9953e-07\n",
            "Epoch 28/50\n",
            "141/141 [==============================] - 22s 156ms/step - loss: 5.5658 - mae: 6.0502 - val_loss: 2.7438 - val_mae: 3.2179 - lr: 2.2387e-07\n",
            "Epoch 29/50\n",
            "141/141 [==============================] - 22s 156ms/step - loss: 5.1794 - mae: 5.6608 - val_loss: 2.6505 - val_mae: 3.1157 - lr: 2.5119e-07\n",
            "Epoch 30/50\n",
            "141/141 [==============================] - 22s 157ms/step - loss: 5.0262 - mae: 5.5066 - val_loss: 2.7499 - val_mae: 3.2274 - lr: 2.8184e-07\n",
            "Epoch 31/50\n",
            "141/141 [==============================] - 22s 156ms/step - loss: 4.9044 - mae: 5.3854 - val_loss: 2.9373 - val_mae: 3.4121 - lr: 3.1623e-07\n",
            "Epoch 32/50\n",
            "141/141 [==============================] - 22s 157ms/step - loss: 3.4059 - mae: 3.8757 - val_loss: 1.8406 - val_mae: 2.2869 - lr: 3.5481e-07\n",
            "Epoch 33/50\n",
            "141/141 [==============================] - 22s 156ms/step - loss: 2.4881 - mae: 2.9513 - val_loss: 1.7183 - val_mae: 2.1606 - lr: 3.9811e-07\n",
            "Epoch 34/50\n",
            "141/141 [==============================] - 22s 157ms/step - loss: 2.0482 - mae: 2.4998 - val_loss: 1.2743 - val_mae: 1.7022 - lr: 4.4668e-07\n",
            "Epoch 35/50\n",
            "141/141 [==============================] - 22s 157ms/step - loss: 1.3460 - mae: 1.7776 - val_loss: 1.2297 - val_mae: 1.6591 - lr: 5.0119e-07\n",
            "Epoch 36/50\n",
            "141/141 [==============================] - 22s 157ms/step - loss: 1.2761 - mae: 1.7057 - val_loss: 1.1631 - val_mae: 1.5784 - lr: 5.6234e-07\n",
            "Epoch 37/50\n",
            "141/141 [==============================] - 22s 156ms/step - loss: 1.2488 - mae: 1.6816 - val_loss: 1.1530 - val_mae: 1.5684 - lr: 6.3096e-07\n",
            "Epoch 38/50\n",
            "141/141 [==============================] - 22s 156ms/step - loss: 1.2065 - mae: 1.6332 - val_loss: 1.1441 - val_mae: 1.5610 - lr: 7.0795e-07\n",
            "Epoch 39/50\n",
            "141/141 [==============================] - 22s 156ms/step - loss: 1.1705 - mae: 1.5954 - val_loss: 1.1319 - val_mae: 1.5530 - lr: 7.9433e-07\n",
            "Epoch 40/50\n",
            "141/141 [==============================] - 22s 157ms/step - loss: 1.1175 - mae: 1.5407 - val_loss: 1.1240 - val_mae: 1.5421 - lr: 8.9125e-07\n",
            "Epoch 41/50\n",
            "141/141 [==============================] - 22s 156ms/step - loss: 1.1432 - mae: 1.5631 - val_loss: 1.1022 - val_mae: 1.5190 - lr: 1.0000e-06\n",
            "Epoch 42/50\n",
            "141/141 [==============================] - 22s 156ms/step - loss: 1.1082 - mae: 1.5311 - val_loss: 1.1529 - val_mae: 1.5695 - lr: 1.1220e-06\n",
            "Epoch 43/50\n",
            "141/141 [==============================] - 22s 157ms/step - loss: 1.0698 - mae: 1.4850 - val_loss: 1.1003 - val_mae: 1.5138 - lr: 1.2589e-06\n",
            "Epoch 44/50\n",
            "141/141 [==============================] - 22s 156ms/step - loss: 1.0392 - mae: 1.4562 - val_loss: 1.1385 - val_mae: 1.5583 - lr: 1.4125e-06\n",
            "Epoch 45/50\n",
            "141/141 [==============================] - 22s 156ms/step - loss: 1.0225 - mae: 1.4389 - val_loss: 1.0547 - val_mae: 1.4658 - lr: 1.5849e-06\n",
            "Epoch 46/50\n",
            "141/141 [==============================] - 22s 156ms/step - loss: 1.0416 - mae: 1.4581 - val_loss: 1.0703 - val_mae: 1.4783 - lr: 1.7783e-06\n",
            "Epoch 47/50\n",
            "141/141 [==============================] - 22s 156ms/step - loss: 0.9908 - mae: 1.4054 - val_loss: 1.0708 - val_mae: 1.4909 - lr: 1.9953e-06\n",
            "Epoch 48/50\n",
            "141/141 [==============================] - 22s 157ms/step - loss: 0.9473 - mae: 1.3550 - val_loss: 1.0614 - val_mae: 1.4703 - lr: 2.2387e-06\n",
            "Epoch 49/50\n",
            "141/141 [==============================] - 22s 158ms/step - loss: 0.9025 - mae: 1.3065 - val_loss: 1.0702 - val_mae: 1.4747 - lr: 2.5119e-06\n",
            "Epoch 50/50\n",
            "141/141 [==============================] - 22s 158ms/step - loss: 0.9097 - mae: 1.3126 - val_loss: 1.0464 - val_mae: 1.4596 - lr: 2.8184e-06\n"
          ]
        }
      ]
    },
    {
      "cell_type": "code",
      "metadata": {
        "colab": {
          "base_uri": "https://localhost:8080/"
        },
        "id": "EidZ3jlwfdGk",
        "outputId": "d280443a-f81f-45ec-cbc7-dddb82179457"
      },
      "source": [
        "# Save the trained model for future use.\n",
        "\n",
        "Pkl_Filename = \"Pickle_Model.pkl\"  \n",
        "\n",
        "with open(Pkl_Filename, 'wb') as file:  \n",
        "    pickle.dump(model, file)"
      ],
      "execution_count": null,
      "outputs": [
        {
          "output_type": "stream",
          "name": "stdout",
          "text": [
            "INFO:tensorflow:Assets written to: ram://b15d68cb-b905-455b-b1a7-973f884d4a21/assets\n"
          ]
        }
      ]
    },
    {
      "cell_type": "code",
      "metadata": {
        "id": "jj8I-BYEe0_N"
      },
      "source": [
        "# Save the file to drive\n",
        "!cp Pickle_Model.pkl /content/drive/MyDrive/Unbiased_Enthusiasts/Our_model/Saved_model"
      ],
      "execution_count": null,
      "outputs": []
    },
    {
      "cell_type": "code",
      "metadata": {
        "id": "3LuldUVAL0TV"
      },
      "source": [
        ""
      ],
      "execution_count": null,
      "outputs": []
    }
  ]
}